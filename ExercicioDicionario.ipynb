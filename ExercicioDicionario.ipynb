{
  "nbformat": 4,
  "nbformat_minor": 0,
  "metadata": {
    "colab": {
      "provenance": [],
      "collapsed_sections": [],
      "authorship_tag": "ABX9TyPgnHvch32hcQFQwmeBbQ4f",
      "include_colab_link": true
    },
    "kernelspec": {
      "name": "python3",
      "display_name": "Python 3"
    },
    "language_info": {
      "name": "python"
    }
  },
  "cells": [
    {
      "cell_type": "markdown",
      "metadata": {
        "id": "view-in-github",
        "colab_type": "text"
      },
      "source": [
        "<a href=\"https://colab.research.google.com/github/pivante/FormacaoUltima/blob/ExercicioDicionario/ExercicioDicionario.ipynb\" target=\"_parent\"><img src=\"https://colab.research.google.com/assets/colab-badge.svg\" alt=\"Open In Colab\"/></a>"
      ]
    },
    {
      "cell_type": "code",
      "source": [
        "texto = input('Digite o texto: ')\n",
        "#texto = 'Meu nome é Gabriel'\n",
        "texto = (texto.lower()).replace(' ', '')\n",
        "dict_texto = dict()\n",
        "lista_texto = sorted(list(set(texto)))\n",
        "posicao = 0\n",
        "\n",
        "for posicao in range(0, len(lista_texto)):\n",
        "  dict_texto[lista_texto[posicao]] = texto.count(lista_texto[posicao])\n",
        "\n",
        "list_values = list(dict_texto.values())\n",
        "list_keys = list(dict_texto.keys())\n",
        "max_value = max(list_values)\n",
        "position_max_value = list_values.index(max_value)\n",
        "print(' A variável é:','\"', list_keys[position_max_value],'\"','\\n' ,'Total de ocorrências:', max_value)\n"
      ],
      "metadata": {
        "colab": {
          "base_uri": "https://localhost:8080/"
        },
        "id": "FR4T2rmhisGZ",
        "outputId": "27ce5b18-c8f9-432d-fc6f-e027e54fa08c"
      },
      "execution_count": 51,
      "outputs": [
        {
          "output_type": "stream",
          "name": "stdout",
          "text": [
            "Digite o texto: O rato roeu a roupa do rei de roma\n",
            " A variável é: \" o \" \n",
            " Total de ocorrências: 6\n"
          ]
        }
      ]
    }
  ]
}