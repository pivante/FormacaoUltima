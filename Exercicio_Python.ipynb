{
 "cells": [
  {
   "cell_type": "code",
   "execution_count": 23,
   "id": "3fccb1f9",
   "metadata": {},
   "outputs": [
    {
     "name": "stdout",
     "output_type": "stream",
     "text": [
      "Informe o 1° valor: 5.2\n",
      "Informe o 2° valor: 7.9\n",
      "------------------------------------\n",
      "soma: 13.100000000000001\n",
      "subtração: -2.7\n",
      "multiplicação: 41.080000000000005\n",
      "divisão: 0.6582278481012658\n",
      "exponenciação: 453342.47856251674\n",
      "resto: 5.2\n"
     ]
    }
   ],
   "source": [
    "x = float(input('Informe o 1° valor: '))\n",
    "y = float(input('Informe o 2° valor: '))\n",
    "print('------------------------------------')\n",
    "\n",
    "#print(type(x), type(y))\n",
    "\n",
    "soma = x + y\n",
    "sub = x - y\n",
    "mult = x * y\n",
    "div = x / y\n",
    "expo = x ** y\n",
    "resto = x % y\n",
    "\n",
    "print('soma:', soma)\n",
    "print('subtração:', sub)\n",
    "print('multiplicação:', mult)\n",
    "print('divisão:', div)\n",
    "print('exponenciação:', expo)\n",
    "print('resto:', resto)"
   ]
  }
 ],
 "metadata": {
  "kernelspec": {
   "display_name": "Python 3 (ipykernel)",
   "language": "python",
   "name": "python3"
  },
  "language_info": {
   "codemirror_mode": {
    "name": "ipython",
    "version": 3
   },
   "file_extension": ".py",
   "mimetype": "text/x-python",
   "name": "python",
   "nbconvert_exporter": "python",
   "pygments_lexer": "ipython3",
   "version": "3.9.12"
  }
 },
 "nbformat": 4,
 "nbformat_minor": 5
}
